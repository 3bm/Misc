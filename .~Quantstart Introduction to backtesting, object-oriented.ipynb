{
 "cells": [
  {
   "cell_type": "markdown",
   "metadata": {},
   "source": [
    "Source: https://s3.amazonaws.com/quantstart/media/powerpoint/an-introduction-to-backtesting.pdf"
   ]
  },
  {
   "cell_type": "code",
   "execution_count": 23,
   "metadata": {},
   "outputs": [],
   "source": [
    "import datetime\n",
    "import pandas as pd\n",
    "import quandl\n",
    "import numpy as np\n",
    "\n",
    "\n",
    "import matplotlib.pyplot as plt\n",
    "%matplotlib inline"
   ]
  },
  {
   "cell_type": "code",
   "execution_count": 10,
   "metadata": {},
   "outputs": [],
   "source": [
    "# use google finance as data source\n",
    "ibm = quandl.get('WIKI/IBM') "
   ]
  },
  {
   "cell_type": "code",
   "execution_count": 15,
   "metadata": {},
   "outputs": [
    {
     "data": {
      "image/png": "[encoded data removed]",
      "text/plain": [
       "<matplotlib.figure.Figure at 0xbd76be0>"
      ]
     },
     "metadata": {},
     "output_type": "display_data"
    }
   ],
   "source": [
    "ibm['Adj. Close'].plot(figsize=(12, 8));"
   ]
  },
  {
   "cell_type": "code",
   "execution_count": 22,
   "metadata": {},
   "outputs": [
    {
     "data": {
      "text/html": [
       "<div>\n",
       "<table border=\"1\" class=\"dataframe\">\n",
       "  <thead>\n",
       "    <tr style=\"text-align: right;\">\n",
       "      <th></th>\n",
       "      <th>Open</th>\n",
       "      <th>High</th>\n",
       "      <th>Low</th>\n",
       "      <th>Close</th>\n",
       "      <th>Volume</th>\n",
       "      <th>Ex-Dividend</th>\n",
       "      <th>Split Ratio</th>\n",
       "      <th>Adj. Open</th>\n",
       "      <th>Adj. High</th>\n",
       "      <th>Adj. Low</th>\n",
       "      <th>Adj. Close</th>\n",
       "      <th>Adj. Volume</th>\n",
       "    </tr>\n",
       "    <tr>\n",
       "      <th>Date</th>\n",
       "      <th></th>\n",
       "      <th></th>\n",
       "      <th></th>\n",
       "      <th></th>\n",
       "      <th></th>\n",
       "      <th></th>\n",
       "      <th></th>\n",
       "      <th></th>\n",
       "      <th></th>\n",
       "      <th></th>\n",
       "      <th></th>\n",
       "      <th></th>\n",
       "    </tr>\n",
       "  </thead>\n",
       "  <tbody>\n",
       "    <tr>\n",
       "      <th>1962-01-02</th>\n",
       "      <td>578.5</td>\n",
       "      <td>578.5</td>\n",
       "      <td>572.0</td>\n",
       "      <td>572.00</td>\n",
       "      <td>19360.0</td>\n",
       "      <td>0.0</td>\n",
       "      <td>1.0</td>\n",
       "      <td>15.423243</td>\n",
       "      <td>15.423243</td>\n",
       "      <td>15.249948</td>\n",
       "      <td>15.249948</td>\n",
       "      <td>387200.0</td>\n",
       "    </tr>\n",
       "    <tr>\n",
       "      <th>1962-01-03</th>\n",
       "      <td>572.0</td>\n",
       "      <td>577.0</td>\n",
       "      <td>572.0</td>\n",
       "      <td>577.00</td>\n",
       "      <td>14400.0</td>\n",
       "      <td>0.0</td>\n",
       "      <td>1.0</td>\n",
       "      <td>15.249948</td>\n",
       "      <td>15.383252</td>\n",
       "      <td>15.249948</td>\n",
       "      <td>15.383252</td>\n",
       "      <td>288000.0</td>\n",
       "    </tr>\n",
       "    <tr>\n",
       "      <th>1962-01-04</th>\n",
       "      <td>577.0</td>\n",
       "      <td>577.0</td>\n",
       "      <td>571.0</td>\n",
       "      <td>571.25</td>\n",
       "      <td>12800.0</td>\n",
       "      <td>0.0</td>\n",
       "      <td>1.0</td>\n",
       "      <td>15.383252</td>\n",
       "      <td>15.383252</td>\n",
       "      <td>15.223287</td>\n",
       "      <td>15.229953</td>\n",
       "      <td>256000.0</td>\n",
       "    </tr>\n",
       "    <tr>\n",
       "      <th>1962-01-05</th>\n",
       "      <td>570.5</td>\n",
       "      <td>570.5</td>\n",
       "      <td>559.0</td>\n",
       "      <td>560.00</td>\n",
       "      <td>18160.0</td>\n",
       "      <td>0.0</td>\n",
       "      <td>1.0</td>\n",
       "      <td>15.209957</td>\n",
       "      <td>15.209957</td>\n",
       "      <td>14.903358</td>\n",
       "      <td>14.930019</td>\n",
       "      <td>363200.0</td>\n",
       "    </tr>\n",
       "    <tr>\n",
       "      <th>1962-01-08</th>\n",
       "      <td>559.5</td>\n",
       "      <td>559.5</td>\n",
       "      <td>545.0</td>\n",
       "      <td>549.50</td>\n",
       "      <td>27200.0</td>\n",
       "      <td>0.0</td>\n",
       "      <td>1.0</td>\n",
       "      <td>14.916689</td>\n",
       "      <td>14.916689</td>\n",
       "      <td>14.530108</td>\n",
       "      <td>14.650081</td>\n",
       "      <td>544000.0</td>\n",
       "    </tr>\n",
       "  </tbody>\n",
       "</table>\n",
       "</div>"
      ],
      "text/plain": [
       "             Open   High    Low   Close   Volume  Ex-Dividend  Split Ratio  \\\n",
       "Date                                                                         \n",
       "1962-01-02  578.5  578.5  572.0  572.00  19360.0          0.0          1.0   \n",
       "1962-01-03  572.0  577.0  572.0  577.00  14400.0          0.0          1.0   \n",
       "1962-01-04  577.0  577.0  571.0  571.25  12800.0          0.0          1.0   \n",
       "1962-01-05  570.5  570.5  559.0  560.00  18160.0          0.0          1.0   \n",
       "1962-01-08  559.5  559.5  545.0  549.50  27200.0          0.0          1.0   \n",
       "\n",
       "            Adj. Open  Adj. High   Adj. Low  Adj. Close  Adj. Volume  \n",
       "Date                                                                  \n",
       "1962-01-02  15.423243  15.423243  15.249948   15.249948     387200.0  \n",
       "1962-01-03  15.249948  15.383252  15.249948   15.383252     288000.0  \n",
       "1962-01-04  15.383252  15.383252  15.223287   15.229953     256000.0  \n",
       "1962-01-05  15.209957  15.209957  14.903358   14.930019     363200.0  \n",
       "1962-01-08  14.916689  14.916689  14.530108   14.650081     544000.0  "
      ]
     },
     "execution_count": 22,
     "metadata": {},
     "output_type": "execute_result"
    }
   ],
   "source": [
    "ibm.head()"
   ]
  },
  {
   "cell_type": "code",
   "execution_count": 17,
   "metadata": {
    "collapsed": true
   },
   "outputs": [],
   "source": [
    "from abc import ABCMeta, abstractmethod"
   ]
  },
  {
   "cell_type": "code",
   "execution_count": 19,
   "metadata": {},
   "outputs": [],
   "source": [
    "class Strategy(object):\n",
    "    __metaclass__ = ABCMeta\n",
    "    \n",
    "    @abstractmethod\n",
    "    def generate_signals(self):\n",
    "        raise NotImplementedError(\"Should implement generate_signals()!\")"
   ]
  },
  {
   "cell_type": "code",
   "execution_count": null,
   "metadata": {
    "collapsed": true
   },
   "outputs": [],
   "source": [
    "# Moving average cross in pyhton\n",
    "\n",
    "class MovingAverageCrossStratrategy(Strategy):\n",
    "    def generate_signals(self):\n",
    "        # Create DataFrame and initialise signal series to zero\n",
    "        signals = pd.DataFrame(index=self.bars.index)\n",
    "        signals['signal'] = 0\n",
    "        \n",
    "        # Create the long/short simple moving averages\n",
    "        signals['short_mavg'] = bars['Adj. Close'].rolling(window=self.short_window,\n",
    "                                                           min_periods=1).mean()\n",
    "        signals['long_mavg'] = bars['Adj. Close'].rolling(window=self.long_window,\n",
    "                                                           min_periods=1).mean()\n",
    "        \n",
    "        # When the short SMA exceeds the long SMA, set the 'signal' Series to 1 (else 0)\n",
    "        signals['signal'][self.short_window:] = \n",
    "            np.where(signals['shor_mavg'][self.short_window:] >\n",
    "                                signals['shor_mavg'][self.short_window:], 1, 0)\n",
    "        \n",
    "        # take the difference of the signals in order to generate actual trading orders"
   ]
  },
  {
   "cell_type": "code",
   "execution_count": null,
   "metadata": {
    "collapsed": true
   },
   "outputs": [],
   "source": []
  },
  {
   "cell_type": "code",
   "execution_count": null,
   "metadata": {
    "collapsed": true
   },
   "outputs": [],
   "source": []
  },
  {
   "cell_type": "code",
   "execution_count": null,
   "metadata": {
    "collapsed": true
   },
   "outputs": [],
   "source": []
  },
  {
   "cell_type": "code",
   "execution_count": null,
   "metadata": {
    "collapsed": true
   },
   "outputs": [],
   "source": []
  },
  {
   "cell_type": "code",
   "execution_count": null,
   "metadata": {
    "collapsed": true
   },
   "outputs": [],
   "source": []
  },
  {
   "cell_type": "code",
   "execution_count": null,
   "metadata": {
    "collapsed": true
   },
   "outputs": [],
   "source": []
  }
 ],
 "metadata": {
  "anaconda-cloud": {},
  "kernelspec": {
   "display_name": "Python [default]",
   "language": "python",
   "name": "python3"
  },
  "language_info": {
   "codemirror_mode": {
    "name": "ipython",
    "version": 3
   },
   "file_extension": ".py",
   "mimetype": "text/x-python",
   "name": "python",
   "nbconvert_exporter": "python",
   "pygments_lexer": "ipython3",
   "version": "3.4.5"
  }
 },
 "nbformat": 4,
 "nbformat_minor": 2
}
